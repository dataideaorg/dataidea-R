{
 "cells": [
  {
   "cell_type": "markdown",
   "metadata": {},
   "source": [
    "# Data Cleaning Crash Course\n",
    "\n",
    "Data cleaning is an essential process in data analysis, as it ensures that your data is free from errors, inconsistencies, or irrelevant information before performing further analysis. In this tutorial, we'll cover the basic steps of data cleaning using R.\n",
    "\n",
    "## Table of Contents\n",
    "\n",
    "1. [Introduction](#1-introduction)\n",
    "2. [Loading Data](#2-loading-data)\n",
    "3. [Installing and Loading Necessary Packages](#3-installing-and-loading-necessary-packages)\n",
    "4. [Checking for Missing Values](#4-checking-for-missing-values)\n",
    "5. [Handling Missing Data](#5-handling-missing-data)\n",
    "6. [Dealing with Duplicates](#6-dealing-with-duplicates)\n",
    "7. [Data Type Conversion](#7-data-type-conversion)\n",
    "8. [Renaming Columns](#8-renaming-columns)\n",
    "9. [Filtering and Subsetting Data](#9-filtering-and-subsetting-data)\n",
    "10. [Dealing with Outliers](#10-dealing-with-outliers)\n",
    "11. [Transforming Variables](#11-transforming-variables)\n",
    "12. [Conclusion](#12-conclusion)\n",
    "\n",
    "---\n",
    "\n",
    "## 1. Introduction\n",
    "\n",
    "Data cleaning involves preparing raw data for analysis by dealing with issues such as missing values, duplicates, incorrect data types, and outliers. Clean data ensures that your models and analyses are accurate and reliable. In this tutorial, we will demonstrate how to perform common data cleaning tasks in R.\n",
    "\n",
    "\n",
    "## 2. Loading Data\n",
    "\n",
    "For this tutorial, we will use the **`mtcars`** dataset, a built-in dataset in R, and simulate some messy data to practice cleaning."
   ]
  },
  {
   "cell_type": "code",
   "execution_count": 5,
   "metadata": {
    "vscode": {
     "languageId": "r"
    }
   },
   "outputs": [
    {
     "data": {
      "text/html": [
       "<table class=\"dataframe\">\n",
       "<caption>A data.frame: 6 × 11</caption>\n",
       "<thead>\n",
       "\t<tr><th></th><th scope=col>mpg</th><th scope=col>cyl</th><th scope=col>disp</th><th scope=col>hp</th><th scope=col>drat</th><th scope=col>wt</th><th scope=col>qsec</th><th scope=col>vs</th><th scope=col>am</th><th scope=col>gear</th><th scope=col>carb</th></tr>\n",
       "\t<tr><th></th><th scope=col>&lt;dbl&gt;</th><th scope=col>&lt;dbl&gt;</th><th scope=col>&lt;dbl&gt;</th><th scope=col>&lt;dbl&gt;</th><th scope=col>&lt;dbl&gt;</th><th scope=col>&lt;dbl&gt;</th><th scope=col>&lt;dbl&gt;</th><th scope=col>&lt;dbl&gt;</th><th scope=col>&lt;dbl&gt;</th><th scope=col>&lt;dbl&gt;</th><th scope=col>&lt;dbl&gt;</th></tr>\n",
       "</thead>\n",
       "<tbody>\n",
       "\t<tr><th scope=row>Mazda RX4</th><td>21.0</td><td> 6</td><td>160</td><td>110</td><td>3.90</td><td>2.620</td><td>16.46</td><td>0</td><td>1</td><td>4</td><td>4</td></tr>\n",
       "\t<tr><th scope=row>Mazda RX4 Wag</th><td>21.0</td><td> 6</td><td>160</td><td>110</td><td>3.90</td><td>2.875</td><td>17.02</td><td>0</td><td>1</td><td>4</td><td>4</td></tr>\n",
       "\t<tr><th scope=row>Datsun 710</th><td>22.8</td><td>NA</td><td>108</td><td> 93</td><td>3.85</td><td>2.320</td><td>18.61</td><td>1</td><td>1</td><td>4</td><td>1</td></tr>\n",
       "\t<tr><th scope=row>Hornet 4 Drive</th><td>21.4</td><td> 6</td><td>258</td><td>110</td><td>3.08</td><td>3.215</td><td>19.44</td><td>1</td><td>0</td><td>3</td><td>1</td></tr>\n",
       "\t<tr><th scope=row>Hornet Sportabout</th><td>  NA</td><td> 8</td><td>360</td><td>175</td><td>3.15</td><td>3.440</td><td>17.02</td><td>0</td><td>0</td><td>3</td><td>2</td></tr>\n",
       "\t<tr><th scope=row>Valiant</th><td>18.1</td><td> 6</td><td>225</td><td>105</td><td>2.76</td><td>3.460</td><td>20.22</td><td>1</td><td>0</td><td>3</td><td>1</td></tr>\n",
       "</tbody>\n",
       "</table>\n"
      ],
      "text/latex": [
       "A data.frame: 6 × 11\n",
       "\\begin{tabular}{r|lllllllllll}\n",
       "  & mpg & cyl & disp & hp & drat & wt & qsec & vs & am & gear & carb\\\\\n",
       "  & <dbl> & <dbl> & <dbl> & <dbl> & <dbl> & <dbl> & <dbl> & <dbl> & <dbl> & <dbl> & <dbl>\\\\\n",
       "\\hline\n",
       "\tMazda RX4 & 21.0 &  6 & 160 & 110 & 3.90 & 2.620 & 16.46 & 0 & 1 & 4 & 4\\\\\n",
       "\tMazda RX4 Wag & 21.0 &  6 & 160 & 110 & 3.90 & 2.875 & 17.02 & 0 & 1 & 4 & 4\\\\\n",
       "\tDatsun 710 & 22.8 & NA & 108 &  93 & 3.85 & 2.320 & 18.61 & 1 & 1 & 4 & 1\\\\\n",
       "\tHornet 4 Drive & 21.4 &  6 & 258 & 110 & 3.08 & 3.215 & 19.44 & 1 & 0 & 3 & 1\\\\\n",
       "\tHornet Sportabout &   NA &  8 & 360 & 175 & 3.15 & 3.440 & 17.02 & 0 & 0 & 3 & 2\\\\\n",
       "\tValiant & 18.1 &  6 & 225 & 105 & 2.76 & 3.460 & 20.22 & 1 & 0 & 3 & 1\\\\\n",
       "\\end{tabular}\n"
      ],
      "text/markdown": [
       "\n",
       "A data.frame: 6 × 11\n",
       "\n",
       "| <!--/--> | mpg &lt;dbl&gt; | cyl &lt;dbl&gt; | disp &lt;dbl&gt; | hp &lt;dbl&gt; | drat &lt;dbl&gt; | wt &lt;dbl&gt; | qsec &lt;dbl&gt; | vs &lt;dbl&gt; | am &lt;dbl&gt; | gear &lt;dbl&gt; | carb &lt;dbl&gt; |\n",
       "|---|---|---|---|---|---|---|---|---|---|---|---|\n",
       "| Mazda RX4 | 21.0 |  6 | 160 | 110 | 3.90 | 2.620 | 16.46 | 0 | 1 | 4 | 4 |\n",
       "| Mazda RX4 Wag | 21.0 |  6 | 160 | 110 | 3.90 | 2.875 | 17.02 | 0 | 1 | 4 | 4 |\n",
       "| Datsun 710 | 22.8 | NA | 108 |  93 | 3.85 | 2.320 | 18.61 | 1 | 1 | 4 | 1 |\n",
       "| Hornet 4 Drive | 21.4 |  6 | 258 | 110 | 3.08 | 3.215 | 19.44 | 1 | 0 | 3 | 1 |\n",
       "| Hornet Sportabout |   NA |  8 | 360 | 175 | 3.15 | 3.440 | 17.02 | 0 | 0 | 3 | 2 |\n",
       "| Valiant | 18.1 |  6 | 225 | 105 | 2.76 | 3.460 | 20.22 | 1 | 0 | 3 | 1 |\n",
       "\n"
      ],
      "text/plain": [
       "                  mpg  cyl disp hp  drat wt    qsec  vs am gear carb\n",
       "Mazda RX4         21.0  6  160  110 3.90 2.620 16.46 0  1  4    4   \n",
       "Mazda RX4 Wag     21.0  6  160  110 3.90 2.875 17.02 0  1  4    4   \n",
       "Datsun 710        22.8 NA  108   93 3.85 2.320 18.61 1  1  4    1   \n",
       "Hornet 4 Drive    21.4  6  258  110 3.08 3.215 19.44 1  0  3    1   \n",
       "Hornet Sportabout   NA  8  360  175 3.15 3.440 17.02 0  0  3    2   \n",
       "Valiant           18.1  6  225  105 2.76 3.460 20.22 1  0  3    1   "
      ]
     },
     "metadata": {},
     "output_type": "display_data"
    }
   ],
   "source": [
    "# Load the dataset\n",
    "data(mtcars)\n",
    "\n",
    "# Simulate messy data (just for demonstration purposes)\n",
    "mtcars$mpg[c(5, 10, 15)] <- NA  # Introduce missing values\n",
    "mtcars$cyl[c(3, 8)] <- NA       # More missing values in categorical column\n",
    "mtcars <- rbind(mtcars, mtcars[1, ])  # Introduce a duplicate row\n",
    "\n",
    "# View the first few rows of the messy data\n",
    "head(mtcars)"
   ]
  },
  {
   "cell_type": "markdown",
   "metadata": {},
   "source": [
    "## 3. Installing and Loading Necessary Packages\n",
    "\n",
    "We’ll use the `dplyr` package, part of the tidyverse, which provides a set of tools for data manipulation and cleaning.\n"
   ]
  },
  {
   "cell_type": "code",
   "execution_count": 6,
   "metadata": {
    "vscode": {
     "languageId": "r"
    }
   },
   "outputs": [
    {
     "name": "stderr",
     "output_type": "stream",
     "text": [
      "Installing package into ‘/home/jumashafara/R/x86_64-pc-linux-gnu-library/4.3’\n",
      "(as ‘lib’ is unspecified)\n",
      "\n"
     ]
    }
   ],
   "source": [
    "# Install and load the dplyr package\n",
    "# install.packages(\"dplyr\")\n",
    "# library(dplyr)"
   ]
  },
  {
   "cell_type": "markdown",
   "metadata": {},
   "source": [
    "## 4. Checking for Missing Values\n",
    "\n",
    "The first step in data cleaning is to check for missing values in your dataset."
   ]
  },
  {
   "cell_type": "code",
   "execution_count": 7,
   "metadata": {
    "vscode": {
     "languageId": "r"
    }
   },
   "outputs": [
    {
     "data": {
      "text/html": [
       "<style>\n",
       ".dl-inline {width: auto; margin:0; padding: 0}\n",
       ".dl-inline>dt, .dl-inline>dd {float: none; width: auto; display: inline-block}\n",
       ".dl-inline>dt::after {content: \":\\0020\"; padding-right: .5ex}\n",
       ".dl-inline>dt:not(:first-of-type) {padding-left: .5ex}\n",
       "</style><dl class=dl-inline><dt>mpg</dt><dd>3</dd><dt>cyl</dt><dd>2</dd><dt>disp</dt><dd>0</dd><dt>hp</dt><dd>0</dd><dt>drat</dt><dd>0</dd><dt>wt</dt><dd>0</dd><dt>qsec</dt><dd>0</dd><dt>vs</dt><dd>0</dd><dt>am</dt><dd>0</dd><dt>gear</dt><dd>0</dd><dt>carb</dt><dd>0</dd></dl>\n"
      ],
      "text/latex": [
       "\\begin{description*}\n",
       "\\item[mpg] 3\n",
       "\\item[cyl] 2\n",
       "\\item[disp] 0\n",
       "\\item[hp] 0\n",
       "\\item[drat] 0\n",
       "\\item[wt] 0\n",
       "\\item[qsec] 0\n",
       "\\item[vs] 0\n",
       "\\item[am] 0\n",
       "\\item[gear] 0\n",
       "\\item[carb] 0\n",
       "\\end{description*}\n"
      ],
      "text/markdown": [
       "mpg\n",
       ":   3cyl\n",
       ":   2disp\n",
       ":   0hp\n",
       ":   0drat\n",
       ":   0wt\n",
       ":   0qsec\n",
       ":   0vs\n",
       ":   0am\n",
       ":   0gear\n",
       ":   0carb\n",
       ":   0\n",
       "\n"
      ],
      "text/plain": [
       " mpg  cyl disp   hp drat   wt qsec   vs   am gear carb \n",
       "   3    2    0    0    0    0    0    0    0    0    0 "
      ]
     },
     "metadata": {},
     "output_type": "display_data"
    }
   ],
   "source": [
    "# Check for missing values in the dataset\n",
    "colSums(is.na(mtcars))"
   ]
  },
  {
   "cell_type": "markdown",
   "metadata": {},
   "source": [
    "**Explanation:**\n",
    "- `is.na()`: Identifies missing values.\n",
    "- `colSums()`: Sums the number of missing values per column.\n",
    "\n",
    "## 5. Handling Missing Data\n",
    "\n",
    "There are several ways to handle missing data, including removing rows with missing values, filling them in with a specific value (such as the mean or median), or using more advanced imputation techniques.\n",
    "\n",
    "### Removing Rows with Missing Values"
   ]
  },
  {
   "cell_type": "code",
   "execution_count": 8,
   "metadata": {
    "vscode": {
     "languageId": "r"
    }
   },
   "outputs": [
    {
     "data": {
      "text/html": [
       "<table class=\"dataframe\">\n",
       "<caption>A data.frame: 6 × 11</caption>\n",
       "<thead>\n",
       "\t<tr><th></th><th scope=col>mpg</th><th scope=col>cyl</th><th scope=col>disp</th><th scope=col>hp</th><th scope=col>drat</th><th scope=col>wt</th><th scope=col>qsec</th><th scope=col>vs</th><th scope=col>am</th><th scope=col>gear</th><th scope=col>carb</th></tr>\n",
       "\t<tr><th></th><th scope=col>&lt;dbl&gt;</th><th scope=col>&lt;dbl&gt;</th><th scope=col>&lt;dbl&gt;</th><th scope=col>&lt;dbl&gt;</th><th scope=col>&lt;dbl&gt;</th><th scope=col>&lt;dbl&gt;</th><th scope=col>&lt;dbl&gt;</th><th scope=col>&lt;dbl&gt;</th><th scope=col>&lt;dbl&gt;</th><th scope=col>&lt;dbl&gt;</th><th scope=col>&lt;dbl&gt;</th></tr>\n",
       "</thead>\n",
       "<tbody>\n",
       "\t<tr><th scope=row>Mazda RX4</th><td>21.0</td><td>6</td><td>160.0</td><td>110</td><td>3.90</td><td>2.620</td><td>16.46</td><td>0</td><td>1</td><td>4</td><td>4</td></tr>\n",
       "\t<tr><th scope=row>Mazda RX4 Wag</th><td>21.0</td><td>6</td><td>160.0</td><td>110</td><td>3.90</td><td>2.875</td><td>17.02</td><td>0</td><td>1</td><td>4</td><td>4</td></tr>\n",
       "\t<tr><th scope=row>Hornet 4 Drive</th><td>21.4</td><td>6</td><td>258.0</td><td>110</td><td>3.08</td><td>3.215</td><td>19.44</td><td>1</td><td>0</td><td>3</td><td>1</td></tr>\n",
       "\t<tr><th scope=row>Valiant</th><td>18.1</td><td>6</td><td>225.0</td><td>105</td><td>2.76</td><td>3.460</td><td>20.22</td><td>1</td><td>0</td><td>3</td><td>1</td></tr>\n",
       "\t<tr><th scope=row>Duster 360</th><td>14.3</td><td>8</td><td>360.0</td><td>245</td><td>3.21</td><td>3.570</td><td>15.84</td><td>0</td><td>0</td><td>3</td><td>4</td></tr>\n",
       "\t<tr><th scope=row>Merc 230</th><td>22.8</td><td>4</td><td>140.8</td><td> 95</td><td>3.92</td><td>3.150</td><td>22.90</td><td>1</td><td>0</td><td>4</td><td>2</td></tr>\n",
       "</tbody>\n",
       "</table>\n"
      ],
      "text/latex": [
       "A data.frame: 6 × 11\n",
       "\\begin{tabular}{r|lllllllllll}\n",
       "  & mpg & cyl & disp & hp & drat & wt & qsec & vs & am & gear & carb\\\\\n",
       "  & <dbl> & <dbl> & <dbl> & <dbl> & <dbl> & <dbl> & <dbl> & <dbl> & <dbl> & <dbl> & <dbl>\\\\\n",
       "\\hline\n",
       "\tMazda RX4 & 21.0 & 6 & 160.0 & 110 & 3.90 & 2.620 & 16.46 & 0 & 1 & 4 & 4\\\\\n",
       "\tMazda RX4 Wag & 21.0 & 6 & 160.0 & 110 & 3.90 & 2.875 & 17.02 & 0 & 1 & 4 & 4\\\\\n",
       "\tHornet 4 Drive & 21.4 & 6 & 258.0 & 110 & 3.08 & 3.215 & 19.44 & 1 & 0 & 3 & 1\\\\\n",
       "\tValiant & 18.1 & 6 & 225.0 & 105 & 2.76 & 3.460 & 20.22 & 1 & 0 & 3 & 1\\\\\n",
       "\tDuster 360 & 14.3 & 8 & 360.0 & 245 & 3.21 & 3.570 & 15.84 & 0 & 0 & 3 & 4\\\\\n",
       "\tMerc 230 & 22.8 & 4 & 140.8 &  95 & 3.92 & 3.150 & 22.90 & 1 & 0 & 4 & 2\\\\\n",
       "\\end{tabular}\n"
      ],
      "text/markdown": [
       "\n",
       "A data.frame: 6 × 11\n",
       "\n",
       "| <!--/--> | mpg &lt;dbl&gt; | cyl &lt;dbl&gt; | disp &lt;dbl&gt; | hp &lt;dbl&gt; | drat &lt;dbl&gt; | wt &lt;dbl&gt; | qsec &lt;dbl&gt; | vs &lt;dbl&gt; | am &lt;dbl&gt; | gear &lt;dbl&gt; | carb &lt;dbl&gt; |\n",
       "|---|---|---|---|---|---|---|---|---|---|---|---|\n",
       "| Mazda RX4 | 21.0 | 6 | 160.0 | 110 | 3.90 | 2.620 | 16.46 | 0 | 1 | 4 | 4 |\n",
       "| Mazda RX4 Wag | 21.0 | 6 | 160.0 | 110 | 3.90 | 2.875 | 17.02 | 0 | 1 | 4 | 4 |\n",
       "| Hornet 4 Drive | 21.4 | 6 | 258.0 | 110 | 3.08 | 3.215 | 19.44 | 1 | 0 | 3 | 1 |\n",
       "| Valiant | 18.1 | 6 | 225.0 | 105 | 2.76 | 3.460 | 20.22 | 1 | 0 | 3 | 1 |\n",
       "| Duster 360 | 14.3 | 8 | 360.0 | 245 | 3.21 | 3.570 | 15.84 | 0 | 0 | 3 | 4 |\n",
       "| Merc 230 | 22.8 | 4 | 140.8 |  95 | 3.92 | 3.150 | 22.90 | 1 | 0 | 4 | 2 |\n",
       "\n"
      ],
      "text/plain": [
       "               mpg  cyl disp  hp  drat wt    qsec  vs am gear carb\n",
       "Mazda RX4      21.0 6   160.0 110 3.90 2.620 16.46 0  1  4    4   \n",
       "Mazda RX4 Wag  21.0 6   160.0 110 3.90 2.875 17.02 0  1  4    4   \n",
       "Hornet 4 Drive 21.4 6   258.0 110 3.08 3.215 19.44 1  0  3    1   \n",
       "Valiant        18.1 6   225.0 105 2.76 3.460 20.22 1  0  3    1   \n",
       "Duster 360     14.3 8   360.0 245 3.21 3.570 15.84 0  0  3    4   \n",
       "Merc 230       22.8 4   140.8  95 3.92 3.150 22.90 1  0  4    2   "
      ]
     },
     "metadata": {},
     "output_type": "display_data"
    }
   ],
   "source": [
    "# Remove rows with any missing values\n",
    "mtcars_cleaned <- na.omit(mtcars)\n",
    "\n",
    "# View cleaned dataset\n",
    "head(mtcars_cleaned)"
   ]
  },
  {
   "cell_type": "markdown",
   "metadata": {},
   "source": [
    "### Filling Missing Values with Mean or Median\n",
    "\n",
    "You can fill missing numeric values with the column mean or median."
   ]
  },
  {
   "cell_type": "code",
   "execution_count": 9,
   "metadata": {
    "vscode": {
     "languageId": "r"
    }
   },
   "outputs": [
    {
     "data": {
      "text/html": [
       "<style>\n",
       ".dl-inline {width: auto; margin:0; padding: 0}\n",
       ".dl-inline>dt, .dl-inline>dd {float: none; width: auto; display: inline-block}\n",
       ".dl-inline>dt::after {content: \":\\0020\"; padding-right: .5ex}\n",
       ".dl-inline>dt:not(:first-of-type) {padding-left: .5ex}\n",
       "</style><dl class=dl-inline><dt>mpg</dt><dd>0</dd><dt>cyl</dt><dd>0</dd><dt>disp</dt><dd>0</dd><dt>hp</dt><dd>0</dd><dt>drat</dt><dd>0</dd><dt>wt</dt><dd>0</dd><dt>qsec</dt><dd>0</dd><dt>vs</dt><dd>0</dd><dt>am</dt><dd>0</dd><dt>gear</dt><dd>0</dd><dt>carb</dt><dd>0</dd></dl>\n"
      ],
      "text/latex": [
       "\\begin{description*}\n",
       "\\item[mpg] 0\n",
       "\\item[cyl] 0\n",
       "\\item[disp] 0\n",
       "\\item[hp] 0\n",
       "\\item[drat] 0\n",
       "\\item[wt] 0\n",
       "\\item[qsec] 0\n",
       "\\item[vs] 0\n",
       "\\item[am] 0\n",
       "\\item[gear] 0\n",
       "\\item[carb] 0\n",
       "\\end{description*}\n"
      ],
      "text/markdown": [
       "mpg\n",
       ":   0cyl\n",
       ":   0disp\n",
       ":   0hp\n",
       ":   0drat\n",
       ":   0wt\n",
       ":   0qsec\n",
       ":   0vs\n",
       ":   0am\n",
       ":   0gear\n",
       ":   0carb\n",
       ":   0\n",
       "\n"
      ],
      "text/plain": [
       " mpg  cyl disp   hp drat   wt qsec   vs   am gear carb \n",
       "   0    0    0    0    0    0    0    0    0    0    0 "
      ]
     },
     "metadata": {},
     "output_type": "display_data"
    }
   ],
   "source": [
    "# Fill missing values in the 'mpg' column with the mean\n",
    "mtcars$mpg[is.na(mtcars$mpg)] <- mean(mtcars$mpg, na.rm = TRUE)\n",
    "\n",
    "# Fill missing values in the 'cyl' column with the mode\n",
    "mtcars$cyl[is.na(mtcars$cyl)] <- as.numeric(names(sort(table(mtcars$cyl), decreasing = TRUE)[1]))\n",
    "\n",
    "# Verify that missing values are filled\n",
    "colSums(is.na(mtcars))"
   ]
  },
  {
   "cell_type": "markdown",
   "metadata": {},
   "source": [
    "**Explanation:**\n",
    "- `mean(mtcars$mpg, na.rm = TRUE)`: Calculates the mean while ignoring `NA` values.\n",
    "- `table()`: Creates a frequency table (used to find the mode).\n",
    "\n",
    "## 6. Dealing with Duplicates\n",
    "\n",
    "Duplicate rows can distort your analysis, so it’s important to remove them.\n"
   ]
  },
  {
   "cell_type": "code",
   "execution_count": 10,
   "metadata": {
    "vscode": {
     "languageId": "r"
    }
   },
   "outputs": [
    {
     "data": {
      "text/html": [
       "1"
      ],
      "text/latex": [
       "1"
      ],
      "text/markdown": [
       "1"
      ],
      "text/plain": [
       "[1] 1"
      ]
     },
     "metadata": {},
     "output_type": "display_data"
    },
    {
     "data": {
      "text/html": [
       "0"
      ],
      "text/latex": [
       "0"
      ],
      "text/markdown": [
       "0"
      ],
      "text/plain": [
       "[1] 0"
      ]
     },
     "metadata": {},
     "output_type": "display_data"
    }
   ],
   "source": [
    "# Check for duplicate rows\n",
    "sum(duplicated(mtcars))\n",
    "\n",
    "# Remove duplicate rows\n",
    "mtcars <- mtcars[!duplicated(mtcars), ]\n",
    "\n",
    "# Verify removal\n",
    "sum(duplicated(mtcars))"
   ]
  },
  {
   "cell_type": "markdown",
   "metadata": {},
   "source": [
    "**Explanation:**\n",
    "- `duplicated()`: Returns a logical vector indicating which rows are duplicates.\n",
    "- `!duplicated()`: Filters out the duplicated rows."
   ]
  },
  {
   "cell_type": "markdown",
   "metadata": {},
   "source": [
    "## 7. Data Type Conversion\n",
    "\n",
    "Sometimes, columns have incorrect data types, such as numeric columns being stored as characters. You need to convert them to the correct type.\n",
    "\n",
    "### Checking Data Types"
   ]
  },
  {
   "cell_type": "code",
   "execution_count": 11,
   "metadata": {
    "vscode": {
     "languageId": "r"
    }
   },
   "outputs": [
    {
     "name": "stdout",
     "output_type": "stream",
     "text": [
      "'data.frame':\t32 obs. of  11 variables:\n",
      " $ mpg : num  21 21 22.8 21.4 20.5 ...\n",
      " $ cyl : num  6 6 8 6 8 6 8 8 4 6 ...\n",
      " $ disp: num  160 160 108 258 360 ...\n",
      " $ hp  : num  110 110 93 110 175 105 245 62 95 123 ...\n",
      " $ drat: num  3.9 3.9 3.85 3.08 3.15 2.76 3.21 3.69 3.92 3.92 ...\n",
      " $ wt  : num  2.62 2.88 2.32 3.21 3.44 ...\n",
      " $ qsec: num  16.5 17 18.6 19.4 17 ...\n",
      " $ vs  : num  0 0 1 1 0 1 0 1 1 1 ...\n",
      " $ am  : num  1 1 1 0 0 0 0 0 0 0 ...\n",
      " $ gear: num  4 4 4 3 3 3 3 4 4 4 ...\n",
      " $ carb: num  4 4 1 1 2 1 4 2 2 4 ...\n"
     ]
    }
   ],
   "source": [
    "# Check the data types of all columns\n",
    "str(mtcars)"
   ]
  },
  {
   "cell_type": "markdown",
   "metadata": {},
   "source": [
    "### Converting Data Types\n",
    "\n",
    "Convert the `cyl` column from numeric to factor since it represents categorical data."
   ]
  },
  {
   "cell_type": "code",
   "execution_count": 12,
   "metadata": {
    "vscode": {
     "languageId": "r"
    }
   },
   "outputs": [
    {
     "name": "stdout",
     "output_type": "stream",
     "text": [
      "'data.frame':\t32 obs. of  11 variables:\n",
      " $ mpg : num  21 21 22.8 21.4 20.5 ...\n",
      " $ cyl : Factor w/ 3 levels \"4\",\"6\",\"8\": 2 2 3 2 3 2 3 3 1 2 ...\n",
      " $ disp: num  160 160 108 258 360 ...\n",
      " $ hp  : num  110 110 93 110 175 105 245 62 95 123 ...\n",
      " $ drat: num  3.9 3.9 3.85 3.08 3.15 2.76 3.21 3.69 3.92 3.92 ...\n",
      " $ wt  : num  2.62 2.88 2.32 3.21 3.44 ...\n",
      " $ qsec: num  16.5 17 18.6 19.4 17 ...\n",
      " $ vs  : num  0 0 1 1 0 1 0 1 1 1 ...\n",
      " $ am  : num  1 1 1 0 0 0 0 0 0 0 ...\n",
      " $ gear: num  4 4 4 3 3 3 3 4 4 4 ...\n",
      " $ carb: num  4 4 1 1 2 1 4 2 2 4 ...\n"
     ]
    }
   ],
   "source": [
    "# Convert 'cyl' to a factor\n",
    "mtcars$cyl <- as.factor(mtcars$cyl)\n",
    "\n",
    "# Verify the conversion\n",
    "str(mtcars)"
   ]
  },
  {
   "cell_type": "markdown",
   "metadata": {},
   "source": [
    "## 8. Renaming Columns\n",
    "\n",
    "Renaming columns is often necessary to make your dataset easier to work with.\n",
    "\n",
    "```r\n",
    "# Rename columns using dplyr\n",
    "mtcars <- mtcars %>%\n",
    "  rename(Miles_Per_Gallon = mpg, Cylinders = cyl)\n",
    "\n",
    "# View the renamed dataset\n",
    "head(mtcars)"
   ]
  },
  {
   "cell_type": "markdown",
   "metadata": {},
   "source": [
    "**Explanation:**\n",
    "- `rename()`: Renames columns, using the syntax `new_name = old_name`."
   ]
  },
  {
   "cell_type": "markdown",
   "metadata": {},
   "source": [
    "## 9. Filtering and Subsetting Data\n",
    "\n",
    "Filtering allows you to work with a subset of the data based on certain conditions.\n",
    "\n",
    "### Filtering Rows"
   ]
  },
  {
   "cell_type": "code",
   "execution_count": null,
   "metadata": {
    "vscode": {
     "languageId": "r"
    }
   },
   "outputs": [],
   "source": [
    "# Filter rows where MPG is greater than 20\n",
    "mtcars_filtered <- mtcars %>%\n",
    "  filter(Miles_Per_Gallon > 20)\n",
    "\n",
    "# View the filtered data\n",
    "head(mtcars_filtered)"
   ]
  },
  {
   "cell_type": "markdown",
   "metadata": {},
   "source": [
    "### Selecting Specific Columns"
   ]
  },
  {
   "cell_type": "code",
   "execution_count": null,
   "metadata": {
    "vscode": {
     "languageId": "r"
    }
   },
   "outputs": [],
   "source": [
    "# Select only the 'Miles_Per_Gallon' and 'Cylinders' columns\n",
    "mtcars_subset <- mtcars %>%\n",
    "  select(Miles_Per_Gallon, Cylinders)\n",
    "\n",
    "# View the subsetted data\n",
    "head(mtcars_subset)"
   ]
  },
  {
   "cell_type": "markdown",
   "metadata": {},
   "source": [
    "**Explanation:**\n",
    "- `filter()`: Filters rows based on a condition.\n",
    "- `select()`: Selects specific columns from the dataset."
   ]
  },
  {
   "cell_type": "markdown",
   "metadata": {},
   "source": [
    "## 10. Dealing with Outliers\n",
    "\n",
    "Outliers can skew your analysis, so it's important to detect and handle them. Here’s how to detect outliers using the Interquartile Range (IQR) method.\n",
    "\n",
    "### Identifying Outliers"
   ]
  },
  {
   "cell_type": "code",
   "execution_count": null,
   "metadata": {
    "vscode": {
     "languageId": "r"
    }
   },
   "outputs": [],
   "source": [
    "# Calculate the IQR for the 'mpg' column\n",
    "Q1 <- quantile(mtcars$Miles_Per_Gallon, 0.25)\n",
    "Q3 <- quantile(mtcars$Miles_Per_Gallon, 0.75)\n",
    "IQR <- Q3 - Q1\n",
    "\n",
    "# Define outlier bounds\n",
    "lower_bound <- Q1 - 1.5 * IQR\n",
    "upper_bound <- Q3 + 1.5 * IQR\n",
    "\n",
    "# Identify outliers\n",
    "outliers <- mtcars %>%\n",
    "  filter(Miles_Per_Gallon < lower_bound | Miles_Per_Gallon > upper_bound)\n",
    "\n",
    "# View the outliers\n",
    "outliers"
   ]
  },
  {
   "cell_type": "markdown",
   "metadata": {},
   "source": [
    "### Removing Outliers"
   ]
  },
  {
   "cell_type": "code",
   "execution_count": null,
   "metadata": {
    "vscode": {
     "languageId": "r"
    }
   },
   "outputs": [],
   "source": [
    "# Remove outliers\n",
    "mtcars_no_outliers <- mtcars %>%\n",
    "  filter(Miles_Per_Gallon >= lower_bound & Miles_Per_Gallon <= upper_bound)\n",
    "\n",
    "# Verify removal of outliers\n",
    "summary(mtcars_no_outliers$Miles_Per_Gallon)"
   ]
  },
  {
   "cell_type": "markdown",
   "metadata": {},
   "source": [
    "**Explanation:**\n",
    "- `quantile()`: Calculates quantiles.\n",
    "- IQR (Interquartile Range) is used to define lower and upper bounds for outliers.\n"
   ]
  },
  {
   "cell_type": "markdown",
   "metadata": {},
   "source": [
    "## 11. Transforming Variables\n",
    "\n",
    "Data transformation can help make your data more suitable for analysis. Common transformations include creating new variables, normalizing, or scaling data.\n",
    "\n",
    "### Creating New Variables"
   ]
  },
  {
   "cell_type": "code",
   "execution_count": null,
   "metadata": {
    "vscode": {
     "languageId": "r"
    }
   },
   "outputs": [],
   "source": [
    "# Create a new variable 'wt_kg' by converting 'wt' from 1000 lbs to kg\n",
    "mtcars <- mtcars %>%\n",
    "  mutate(wt_kg = wt * 453.592)\n",
    "\n",
    "# View the new variable\n",
    "head(mtcars)"
   ]
  },
  {
   "cell_type": "markdown",
   "metadata": {},
   "source": [
    "### Scaling and Normalizing Data"
   ]
  },
  {
   "cell_type": "code",
   "execution_count": null,
   "metadata": {
    "vscode": {
     "languageId": "r"
    }
   },
   "outputs": [],
   "source": [
    "# Normalize 'Miles_Per_Gallon' (min-max scaling)\n",
    "mtcars <- mtcars %>%\n",
    "  mutate(Miles_Per_Gallon_scaled = (Miles_Per_Gallon - min(Miles_Per_Gallon)) / (max(Miles_Per_Gallon) - min(Miles_Per_Gallon)))\n",
    "\n",
    "# View the scaled column\n",
    "head(mtcars$Miles_Per_Gallon_scaled)"
   ]
  },
  {
   "cell_type": "markdown",
   "metadata": {},
   "source": [
    "**Explanation:**\n",
    "- `mutate()`: Adds new variables or modifies existing ones.\n",
    "- Scaling helps bring all values into a comparable range, especially for machine learning tasks."
   ]
  },
  {
   "cell_type": "markdown",
   "metadata": {
    "vscode": {
     "languageId": "r"
    }
   },
   "source": [
    "## 12. Conclusion\n",
    "\n",
    "In this tutorial, we have covered the essential steps in data cleaning using R. Here’s a quick recap:\n",
    "\n",
    "- **Checking and Handling Missing Data:** Use functions like `na.omit()` or fill missing values with mean, median, or mode.\n",
    "- **Dealing with Duplicates:** Identify and remove duplicate rows.\n",
    "- **Data Type Conversion:** Convert columns to their appropriate data types.\n",
    "- **Renaming Columns:** Rename columns for better clarity.\n",
    "- **Filtering and Subsetting Data:** Filter rows and select specific columns based on your needs.\n",
    "- **Handling Outliers:** Identify and remove outliers using the IQR method.\n",
    "- **Transforming Data:** Create new variables, scale, or normalize existing data.\n",
    "\n",
    "These techniques form the foundation of effective data cleaning.\n",
    "\n",
    " Once your data is cleaned, it’s ready for analysis, visualization, or modeling."
   ]
  },
  {
   "cell_type": "markdown",
   "metadata": {
    "vscode": {
     "languageId": "r"
    }
   },
   "source": [
    "<h2>What's on your mind? Put it in the comments!</h2>\n",
    "<script src=\"https://utteranc.es/client.js\"\n",
    "        repo=\"dataideaorg/dataidea-science\"\n",
    "        issue-term=\"pathname\"\n",
    "        theme=\"github-light\"\n",
    "        crossorigin=\"anonymous\"\n",
    "        async>\n",
    "</script>"
   ]
  }
 ],
 "metadata": {
  "kernelspec": {
   "display_name": "R",
   "language": "R",
   "name": "ir"
  },
  "language_info": {
   "codemirror_mode": "r",
   "file_extension": ".r",
   "mimetype": "text/x-r-source",
   "name": "R",
   "pygments_lexer": "r",
   "version": "4.3.3"
  }
 },
 "nbformat": 4,
 "nbformat_minor": 2
}
