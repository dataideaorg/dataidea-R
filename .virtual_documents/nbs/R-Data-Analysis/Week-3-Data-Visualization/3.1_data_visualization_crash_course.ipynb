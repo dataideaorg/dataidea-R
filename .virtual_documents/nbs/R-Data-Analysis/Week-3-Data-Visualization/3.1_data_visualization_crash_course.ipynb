








# Load the dataset
data(mtcars)

# View the first few rows
head(mtcars)





# Install ggplot2 if you haven't already
install.packages("ggplot2")

# Load ggplot2
library(ggplot2)





# Scatter plot of mpg vs. wt
plot(mtcars$wt, mtcars$mpg,
     main = "Scatter Plot of MPG vs Weight",
     xlab = "Weight (1000 lbs)",
     ylab = "Miles Per Gallon (MPG)",
     pch = 19,  # Solid circles
     col = "#008374")





# Bar chart of the number of cars by number of cylinders
cyl_counts <- table(mtcars$cyl)
barplot(cyl_counts,
        main = "Number of Cars by Cylinders",
        xlab = "Number of Cylinders",
        ylab = "Frequency",
        col = "#008374")





# Histogram of MPG
hist(mtcars$mpg,
     main = "Histogram of MPG",
     xlab = "Miles Per Gallon (MPG)",
     col = "#66fdee",
     border = "#008374")





# Box plot of MPG by number of cylinders
boxplot(mpg ~ cyl, data = mtcars,
        main = "Box Plot of MPG by Cylinders",
        xlab = "Number of Cylinders",
        ylab = "Miles Per Gallon (MPG)",
        col = "#66fdee")





# Line graph of MPG for each car (ordered by weight)
mtcars_ordered <- mtcars[order(mtcars$wt), ]
plot(mtcars_ordered$wt, mtcars_ordered$mpg,
     type = "o",  # Both lines and points
     main = "Line Graph of MPG vs Weight",
     xlab = "Weight (1000 lbs)",
     ylab = "Miles Per Gallon (MPG)",
     col = "purple")





# Scatter plot of mpg vs wt using ggplot2
ggplot(mtcars, aes(x = wt, y = mpg)) +
  geom_point(color = "#008374", size = 3) +
  ggtitle("Scatter Plot of MPG vs Weight") +
  xlab("Weight (1000 lbs)") +
  ylab("Miles Per Gallon (MPG)") +
  theme_minimal()





# Bar chart of the number of cars by cylinders using ggplot2
ggplot(mtcars, aes(x = factor(cyl))) +
  geom_bar(fill = "#00fdee") +
  ggtitle("Number of Cars by Cylinders") +
  xlab("Number of Cylinders") +
  ylab("Frequency") +
  theme_minimal()





# Histogram of MPG using ggplot2
ggplot(mtcars, aes(x = mpg)) +
  geom_histogram(binwidth = 2, fill = "#66fdee", color = "#008374") +
  ggtitle("Histogram of MPG") +
  xlab("Miles Per Gallon (MPG)") +
  ylab("Frequency") + 
  theme_minimal()





# Box plot of MPG by cylinders using ggplot2
ggplot(mtcars, aes(x = factor(cyl), y = mpg)) +
  geom_boxplot(fill = "#008374") +
  ggtitle("Box Plot of MPG by Cylinders") +
  xlab("Number of Cylinders") +
  ylab("Miles Per Gallon (MPG)") +
  theme_minimal()





# Line graph of MPG vs Weight using ggplot2
ggplot(mtcars_ordered, aes(x = wt, y = mpg)) +
  geom_line(color = "#008374") +
  geom_point(color = "#66fdee", size = 2) +
  ggtitle("Line Graph of MPG vs Weight") +
  xlab("Weight (1000 lbs)") +
  ylab("Miles Per Gallon (MPG)") +
  theme_minimal()





ggplot(mtcars, aes(x = wt, y = mpg)) +
  geom_point(color = "#008374") +
  ggtitle("Scatter Plot of MPG vs Weight") +
  xlab("Weight (1000 lbs)") +
  ylab("Miles Per Gallon (MPG)") +
  theme_bw()  # Changes to a black and white theme





# Scatter plot with color based on number of cylinders
ggplot(mtcars, aes(x = wt, y = mpg, color = factor(cyl))) +
  geom_point(size=3) +
  ggtitle("Scatter Plot of MPG vs Weight by Cylinders") +
  xlab("Weight (1000 lbs)") +
  ylab("Miles Per Gallon (MPG)") +
  theme_minimal() +
  scale_color_manual(values = c("#909090", "#66fdee", "#008374"),
                     name = "Cylinders")





# Scatter plot faceted by number of cylinders
ggplot(mtcars, aes(x = wt, y = mpg)) +
  geom_point(color = "#008374", size=3) +
  ggtitle("Scatter Plot of MPG vs Weight by Cylinders") +
  xlab("Weight (1000 lbs)") +
  ylab("Miles Per Gallon (MPG)") +
  theme_minimal() +
  facet_wrap(~ cyl)





# Scatter plot with labels for cars with highest MPG
top_mpg <- mtcars[mtcars$mpg > 30, ]
ggplot(mtcars, aes(x = wt, y = mpg)) +
  geom_point(color = "#008374") +
  geom_text(data = top_mpg, aes(label = rownames(top_mpg)),
            vjust = -1, size = 3) +
  ggtitle("Scatter Plot of MPG vs Weight with Labels") +
  xlab("Weight (1000 lbs)") +
  ylab("Miles Per Gallon (MPG)") +
  theme_minimal()





# Save scatter plot as PNG
png("scatter_mpg_wt.png", width = 800, height = 600)
plot(mtcars$wt, mtcars$mpg,
     main = "Scatter Plot of MPG vs Weight",
     xlab = "Weight (1000 lbs)",
     ylab = "Miles Per Gallon (MPG)",
     pch = 19,
     col = "blue")
dev.off()





# Create the plot
p <- ggplot(mtcars, aes(x = wt, y = mpg)) +
  geom_point(color = "blue", size = 3) +
  ggtitle("Scatter Plot of MPG vs Weight") +
  xlab("Weight (1000 lbs)") +
  ylab("Miles Per Gallon (MPG)") +
  theme_minimal()

# Save the plot
ggsave("ggplot_scatter_mpg_wt.png", plot = p, width = 8, height = 6, dpi = 300)



